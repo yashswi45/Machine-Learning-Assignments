{
  "nbformat": 4,
  "nbformat_minor": 0,
  "metadata": {
    "colab": {
      "provenance": []
    },
    "kernelspec": {
      "name": "python3",
      "display_name": "Python 3"
    },
    "language_info": {
      "name": "python"
    }
  },
  "cells": [
    {
      "cell_type": "code",
      "execution_count": null,
      "metadata": {
        "id": "rD-3pR24GWZQ"
      },
      "outputs": [],
      "source": [
        "import numpy as np\n",
        "import pandas as pd\n",
        "import matplotlib.pyplot as plt\n",
        "import seaborn as sns"
      ]
    },
    {
      "cell_type": "code",
      "source": [
        "from google.colab import files\n",
        "uploaded = files.upload()\n"
      ],
      "metadata": {
        "colab": {
          "base_uri": "https://localhost:8080/",
          "height": 73
        },
        "id": "Zt3XVDSTOgzl",
        "outputId": "4767b74b-fa20-4d80-ecd5-9386929710b2"
      },
      "execution_count": null,
      "outputs": [
        {
          "output_type": "display_data",
          "data": {
            "text/plain": [
              "<IPython.core.display.HTML object>"
            ],
            "text/html": [
              "\n",
              "     <input type=\"file\" id=\"files-30e0a241-d95e-4ffe-8b2f-ec395e73a8af\" name=\"files[]\" multiple disabled\n",
              "        style=\"border:none\" />\n",
              "     <output id=\"result-30e0a241-d95e-4ffe-8b2f-ec395e73a8af\">\n",
              "      Upload widget is only available when the cell has been executed in the\n",
              "      current browser session. Please rerun this cell to enable.\n",
              "      </output>\n",
              "      <script>// Copyright 2017 Google LLC\n",
              "//\n",
              "// Licensed under the Apache License, Version 2.0 (the \"License\");\n",
              "// you may not use this file except in compliance with the License.\n",
              "// You may obtain a copy of the License at\n",
              "//\n",
              "//      http://www.apache.org/licenses/LICENSE-2.0\n",
              "//\n",
              "// Unless required by applicable law or agreed to in writing, software\n",
              "// distributed under the License is distributed on an \"AS IS\" BASIS,\n",
              "// WITHOUT WARRANTIES OR CONDITIONS OF ANY KIND, either express or implied.\n",
              "// See the License for the specific language governing permissions and\n",
              "// limitations under the License.\n",
              "\n",
              "/**\n",
              " * @fileoverview Helpers for google.colab Python module.\n",
              " */\n",
              "(function(scope) {\n",
              "function span(text, styleAttributes = {}) {\n",
              "  const element = document.createElement('span');\n",
              "  element.textContent = text;\n",
              "  for (const key of Object.keys(styleAttributes)) {\n",
              "    element.style[key] = styleAttributes[key];\n",
              "  }\n",
              "  return element;\n",
              "}\n",
              "\n",
              "// Max number of bytes which will be uploaded at a time.\n",
              "const MAX_PAYLOAD_SIZE = 100 * 1024;\n",
              "\n",
              "function _uploadFiles(inputId, outputId) {\n",
              "  const steps = uploadFilesStep(inputId, outputId);\n",
              "  const outputElement = document.getElementById(outputId);\n",
              "  // Cache steps on the outputElement to make it available for the next call\n",
              "  // to uploadFilesContinue from Python.\n",
              "  outputElement.steps = steps;\n",
              "\n",
              "  return _uploadFilesContinue(outputId);\n",
              "}\n",
              "\n",
              "// This is roughly an async generator (not supported in the browser yet),\n",
              "// where there are multiple asynchronous steps and the Python side is going\n",
              "// to poll for completion of each step.\n",
              "// This uses a Promise to block the python side on completion of each step,\n",
              "// then passes the result of the previous step as the input to the next step.\n",
              "function _uploadFilesContinue(outputId) {\n",
              "  const outputElement = document.getElementById(outputId);\n",
              "  const steps = outputElement.steps;\n",
              "\n",
              "  const next = steps.next(outputElement.lastPromiseValue);\n",
              "  return Promise.resolve(next.value.promise).then((value) => {\n",
              "    // Cache the last promise value to make it available to the next\n",
              "    // step of the generator.\n",
              "    outputElement.lastPromiseValue = value;\n",
              "    return next.value.response;\n",
              "  });\n",
              "}\n",
              "\n",
              "/**\n",
              " * Generator function which is called between each async step of the upload\n",
              " * process.\n",
              " * @param {string} inputId Element ID of the input file picker element.\n",
              " * @param {string} outputId Element ID of the output display.\n",
              " * @return {!Iterable<!Object>} Iterable of next steps.\n",
              " */\n",
              "function* uploadFilesStep(inputId, outputId) {\n",
              "  const inputElement = document.getElementById(inputId);\n",
              "  inputElement.disabled = false;\n",
              "\n",
              "  const outputElement = document.getElementById(outputId);\n",
              "  outputElement.innerHTML = '';\n",
              "\n",
              "  const pickedPromise = new Promise((resolve) => {\n",
              "    inputElement.addEventListener('change', (e) => {\n",
              "      resolve(e.target.files);\n",
              "    });\n",
              "  });\n",
              "\n",
              "  const cancel = document.createElement('button');\n",
              "  inputElement.parentElement.appendChild(cancel);\n",
              "  cancel.textContent = 'Cancel upload';\n",
              "  const cancelPromise = new Promise((resolve) => {\n",
              "    cancel.onclick = () => {\n",
              "      resolve(null);\n",
              "    };\n",
              "  });\n",
              "\n",
              "  // Wait for the user to pick the files.\n",
              "  const files = yield {\n",
              "    promise: Promise.race([pickedPromise, cancelPromise]),\n",
              "    response: {\n",
              "      action: 'starting',\n",
              "    }\n",
              "  };\n",
              "\n",
              "  cancel.remove();\n",
              "\n",
              "  // Disable the input element since further picks are not allowed.\n",
              "  inputElement.disabled = true;\n",
              "\n",
              "  if (!files) {\n",
              "    return {\n",
              "      response: {\n",
              "        action: 'complete',\n",
              "      }\n",
              "    };\n",
              "  }\n",
              "\n",
              "  for (const file of files) {\n",
              "    const li = document.createElement('li');\n",
              "    li.append(span(file.name, {fontWeight: 'bold'}));\n",
              "    li.append(span(\n",
              "        `(${file.type || 'n/a'}) - ${file.size} bytes, ` +\n",
              "        `last modified: ${\n",
              "            file.lastModifiedDate ? file.lastModifiedDate.toLocaleDateString() :\n",
              "                                    'n/a'} - `));\n",
              "    const percent = span('0% done');\n",
              "    li.appendChild(percent);\n",
              "\n",
              "    outputElement.appendChild(li);\n",
              "\n",
              "    const fileDataPromise = new Promise((resolve) => {\n",
              "      const reader = new FileReader();\n",
              "      reader.onload = (e) => {\n",
              "        resolve(e.target.result);\n",
              "      };\n",
              "      reader.readAsArrayBuffer(file);\n",
              "    });\n",
              "    // Wait for the data to be ready.\n",
              "    let fileData = yield {\n",
              "      promise: fileDataPromise,\n",
              "      response: {\n",
              "        action: 'continue',\n",
              "      }\n",
              "    };\n",
              "\n",
              "    // Use a chunked sending to avoid message size limits. See b/62115660.\n",
              "    let position = 0;\n",
              "    do {\n",
              "      const length = Math.min(fileData.byteLength - position, MAX_PAYLOAD_SIZE);\n",
              "      const chunk = new Uint8Array(fileData, position, length);\n",
              "      position += length;\n",
              "\n",
              "      const base64 = btoa(String.fromCharCode.apply(null, chunk));\n",
              "      yield {\n",
              "        response: {\n",
              "          action: 'append',\n",
              "          file: file.name,\n",
              "          data: base64,\n",
              "        },\n",
              "      };\n",
              "\n",
              "      let percentDone = fileData.byteLength === 0 ?\n",
              "          100 :\n",
              "          Math.round((position / fileData.byteLength) * 100);\n",
              "      percent.textContent = `${percentDone}% done`;\n",
              "\n",
              "    } while (position < fileData.byteLength);\n",
              "  }\n",
              "\n",
              "  // All done.\n",
              "  yield {\n",
              "    response: {\n",
              "      action: 'complete',\n",
              "    }\n",
              "  };\n",
              "}\n",
              "\n",
              "scope.google = scope.google || {};\n",
              "scope.google.colab = scope.google.colab || {};\n",
              "scope.google.colab._files = {\n",
              "  _uploadFiles,\n",
              "  _uploadFilesContinue,\n",
              "};\n",
              "})(self);\n",
              "</script> "
            ]
          },
          "metadata": {}
        },
        {
          "output_type": "stream",
          "name": "stdout",
          "text": [
            "Saving admission.csv to admission.csv\n"
          ]
        }
      ]
    },
    {
      "cell_type": "code",
      "source": [
        "data=pd.read_csv(\"/content/admission.csv\")"
      ],
      "metadata": {
        "id": "oUIs1l3sOkOM"
      },
      "execution_count": null,
      "outputs": []
    },
    {
      "cell_type": "code",
      "source": [
        "print(data.head())"
      ],
      "metadata": {
        "colab": {
          "base_uri": "https://localhost:8080/"
        },
        "id": "5dXDjSt3Otrs",
        "outputId": "23ade0ca-ccef-48cc-810b-e3642cc21410"
      },
      "execution_count": null,
      "outputs": [
        {
          "output_type": "stream",
          "name": "stdout",
          "text": [
            "   Serial No.  GRE Score  TOEFL Score  University Rating  SOP  LOR  CGPA  \\\n",
            "0           1        337          118                  4  4.5  4.5  9.65   \n",
            "1           2        324          107                  4  4.0  4.5  8.87   \n",
            "2           3        316          104                  3  3.0  3.5  8.00   \n",
            "3           4        322          110                  3  3.5  2.5  8.67   \n",
            "4           5        314          103                  2  2.0  3.0  8.21   \n",
            "\n",
            "   Research  Chance of Admit  \n",
            "0         1             0.92  \n",
            "1         1             0.76  \n",
            "2         1             0.72  \n",
            "3         1             0.80  \n",
            "4         0             0.65  \n"
          ]
        }
      ]
    },
    {
      "cell_type": "code",
      "source": [
        "print(\"Shape of Data\",data.shape)"
      ],
      "metadata": {
        "colab": {
          "base_uri": "https://localhost:8080/"
        },
        "id": "mmUeprAeOvPE",
        "outputId": "228d97fa-2cb3-4f00-843f-9f796dd8a87a"
      },
      "execution_count": null,
      "outputs": [
        {
          "output_type": "stream",
          "name": "stdout",
          "text": [
            "Shape of Data (500, 9)\n"
          ]
        }
      ]
    },
    {
      "cell_type": "code",
      "source": [
        "print(\"Missing values\", data.isnull().sum())"
      ],
      "metadata": {
        "colab": {
          "base_uri": "https://localhost:8080/"
        },
        "id": "dBg9b-OIOz7E",
        "outputId": "cbdfc64d-a0fa-47bf-a90f-37a0950d3764"
      },
      "execution_count": null,
      "outputs": [
        {
          "output_type": "stream",
          "name": "stdout",
          "text": [
            "Missing values Serial No.           0\n",
            "GRE Score            0\n",
            "TOEFL Score          0\n",
            "University Rating    0\n",
            "SOP                  0\n",
            "LOR                  0\n",
            "CGPA                 0\n",
            "Research             0\n",
            "Chance of Admit      0\n",
            "dtype: int64\n"
          ]
        }
      ]
    },
    {
      "cell_type": "code",
      "source": [
        "print(\"Data Type\")\n",
        "print(data.dtypes)"
      ],
      "metadata": {
        "colab": {
          "base_uri": "https://localhost:8080/"
        },
        "id": "OiaArnm5O3pk",
        "outputId": "cede0af5-ce36-45a4-dfa3-31b5bceabdc2"
      },
      "execution_count": null,
      "outputs": [
        {
          "output_type": "stream",
          "name": "stdout",
          "text": [
            "Data Type\n",
            "Serial No.             int64\n",
            "GRE Score              int64\n",
            "TOEFL Score            int64\n",
            "University Rating      int64\n",
            "SOP                  float64\n",
            "LOR                  float64\n",
            "CGPA                 float64\n",
            "Research               int64\n",
            "Chance of Admit      float64\n",
            "dtype: object\n"
          ]
        }
      ]
    },
    {
      "cell_type": "code",
      "source": [
        "zero=(data == 0).sum()\n",
        "print(zero)"
      ],
      "metadata": {
        "colab": {
          "base_uri": "https://localhost:8080/"
        },
        "id": "rTqTBzBmO5ZD",
        "outputId": "016e9c49-b938-497d-8c7e-cbbb33694936"
      },
      "execution_count": null,
      "outputs": [
        {
          "output_type": "stream",
          "name": "stdout",
          "text": [
            "Serial No.             0\n",
            "GRE Score              0\n",
            "TOEFL Score            0\n",
            "University Rating      0\n",
            "SOP                    0\n",
            "LOR                    0\n",
            "CGPA                   0\n",
            "Research             220\n",
            "Chance of Admit        0\n",
            "dtype: int64\n"
          ]
        }
      ]
    },
    {
      "cell_type": "code",
      "source": [
        "print(data.columns)\n",
        "\n",
        "print(data[['GRE Score', 'Chance of Admit']].head())\n",
        "print(data.iloc[0:5])\n",
        "\n",
        "\n",
        "sorted_data = data.sort_values(by='Chance of Admit')\n",
        "print(sorted_data.head())"
      ],
      "metadata": {
        "colab": {
          "base_uri": "https://localhost:8080/"
        },
        "id": "1v-vNJ6mO_RN",
        "outputId": "68615f5c-5162-48ef-91c2-fc8015119480"
      },
      "execution_count": null,
      "outputs": [
        {
          "output_type": "stream",
          "name": "stdout",
          "text": [
            "Index(['Serial No.', 'GRE Score', 'TOEFL Score', 'University Rating', 'SOP',\n",
            "       'LOR', 'CGPA', 'Research', 'Chance of Admit'],\n",
            "      dtype='object')\n",
            "   GRE Score  Chance of Admit\n",
            "0        337             0.92\n",
            "1        324             0.76\n",
            "2        316             0.72\n",
            "3        322             0.80\n",
            "4        314             0.65\n",
            "   Serial No.  GRE Score  TOEFL Score  University Rating  SOP  LOR  CGPA  \\\n",
            "0           1        337          118                  4  4.5  4.5  9.65   \n",
            "1           2        324          107                  4  4.0  4.5  8.87   \n",
            "2           3        316          104                  3  3.0  3.5  8.00   \n",
            "3           4        322          110                  3  3.5  2.5  8.67   \n",
            "4           5        314          103                  2  2.0  3.0  8.21   \n",
            "\n",
            "   Research  Chance of Admit  \n",
            "0         1             0.92  \n",
            "1         1             0.76  \n",
            "2         1             0.72  \n",
            "3         1             0.80  \n",
            "4         0             0.65  \n",
            "     Serial No.  GRE Score  TOEFL Score  University Rating  SOP  LOR  CGPA  \\\n",
            "92           93        298           98                  2  4.0  3.0  8.03   \n",
            "376         377        297           96                  2  2.5  2.0  7.43   \n",
            "94           95        303           99                  3  2.0  2.5  7.66   \n",
            "58           59        300           99                  1  3.0  2.0  6.80   \n",
            "457         458        295           99                  1  2.0  1.5  7.57   \n",
            "\n",
            "     Research  Chance of Admit  \n",
            "92          0             0.34  \n",
            "376         0             0.34  \n",
            "94          0             0.36  \n",
            "58          1             0.36  \n",
            "457         0             0.37  \n"
          ]
        }
      ]
    },
    {
      "cell_type": "code",
      "source": [
        "print(\"Summary statistics for CSV data:\")\n",
        "print(data.describe())"
      ],
      "metadata": {
        "colab": {
          "base_uri": "https://localhost:8080/"
        },
        "id": "K4DoRudbPgvt",
        "outputId": "9c24d613-4e22-4e16-8bf9-cbc1235f0e69"
      },
      "execution_count": null,
      "outputs": [
        {
          "output_type": "stream",
          "name": "stdout",
          "text": [
            "Summary statistics for CSV data:\n",
            "       Serial No.   GRE Score  TOEFL Score  University Rating         SOP  \\\n",
            "count  500.000000  500.000000   500.000000         500.000000  500.000000   \n",
            "mean   250.500000  316.472000   107.192000           3.114000    3.374000   \n",
            "std    144.481833   11.295148     6.081868           1.143512    0.991004   \n",
            "min      1.000000  290.000000    92.000000           1.000000    1.000000   \n",
            "25%    125.750000  308.000000   103.000000           2.000000    2.500000   \n",
            "50%    250.500000  317.000000   107.000000           3.000000    3.500000   \n",
            "75%    375.250000  325.000000   112.000000           4.000000    4.000000   \n",
            "max    500.000000  340.000000   120.000000           5.000000    5.000000   \n",
            "\n",
            "             LOR        CGPA    Research  Chance of Admit  \n",
            "count  500.00000  500.000000  500.000000        500.00000  \n",
            "mean     3.48400    8.576440    0.560000          0.72174  \n",
            "std      0.92545    0.604813    0.496884          0.14114  \n",
            "min      1.00000    6.800000    0.000000          0.34000  \n",
            "25%      3.00000    8.127500    0.000000          0.63000  \n",
            "50%      3.50000    8.560000    1.000000          0.72000  \n",
            "75%      4.00000    9.040000    1.000000          0.82000  \n",
            "max      5.00000    9.920000    1.000000          0.97000  \n"
          ]
        }
      ]
    },
    {
      "cell_type": "code",
      "source": [
        "print(\"Counting unique values : \")\n",
        "print(data.nunique())\n",
        "\n",
        "print(\"Format of columns : \")\n",
        "print(data.dtypes)\n",
        "\n",
        "\n",
        "print(\"Converting data type : \")\n",
        "data['CGPA'] = data['CGPA'].astype(int)\n",
        "print(data.dtypes)"
      ],
      "metadata": {
        "colab": {
          "base_uri": "https://localhost:8080/"
        },
        "id": "4qgmEoWvPvT1",
        "outputId": "4ce97b89-5ac5-43d8-84b4-a468700595ce"
      },
      "execution_count": null,
      "outputs": [
        {
          "output_type": "stream",
          "name": "stdout",
          "text": [
            "Counting unique values : \n",
            "Serial No.           500\n",
            "GRE Score             49\n",
            "TOEFL Score           29\n",
            "University Rating      5\n",
            "SOP                    9\n",
            "LOR                    9\n",
            "CGPA                 184\n",
            "Research               2\n",
            "Chance of Admit       61\n",
            "dtype: int64\n",
            "Format of columns : \n",
            "Serial No.             int64\n",
            "GRE Score              int64\n",
            "TOEFL Score            int64\n",
            "University Rating      int64\n",
            "SOP                  float64\n",
            "LOR                  float64\n",
            "CGPA                 float64\n",
            "Research               int64\n",
            "Chance of Admit      float64\n",
            "dtype: object\n",
            "Converting data type : \n",
            "Serial No.             int64\n",
            "GRE Score              int64\n",
            "TOEFL Score            int64\n",
            "University Rating      int64\n",
            "SOP                  float64\n",
            "LOR                  float64\n",
            "CGPA                   int64\n",
            "Research               int64\n",
            "Chance of Admit      float64\n",
            "dtype: object\n"
          ]
        }
      ]
    }
  ]
}